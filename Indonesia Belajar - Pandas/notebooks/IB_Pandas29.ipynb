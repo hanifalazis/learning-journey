{
 "cells": [
  {
   "cell_type": "markdown",
   "id": "d726ab9d",
   "metadata": {},
   "source": [
    "# Melakukan random sampling pada Data Frame"
   ]
  },
  {
   "cell_type": "markdown",
   "id": "311f3eb6",
   "metadata": {},
   "source": [
    "# Import Modules"
   ]
  },
  {
   "cell_type": "code",
   "execution_count": 1,
   "id": "6fc5976b",
   "metadata": {},
   "outputs": [
    {
     "name": "stdout",
     "output_type": "stream",
     "text": [
      "Pandas Version: 2.2.3\n"
     ]
    }
   ],
   "source": [
    "import pandas as pd\n",
    "\n",
    "print(\"Pandas Version:\", pd.__version__)"
   ]
  },
  {
   "cell_type": "markdown",
   "id": "4735cfc5",
   "metadata": {},
   "source": [
    "## Persiapan Data Frame"
   ]
  },
  {
   "cell_type": "code",
   "execution_count": 3,
   "id": "4747b8e4",
   "metadata": {},
   "outputs": [
    {
     "data": {
      "text/html": [
       "<div>\n",
       "<style scoped>\n",
       "    .dataframe tbody tr th:only-of-type {\n",
       "        vertical-align: middle;\n",
       "    }\n",
       "\n",
       "    .dataframe tbody tr th {\n",
       "        vertical-align: top;\n",
       "    }\n",
       "\n",
       "    .dataframe thead th {\n",
       "        text-align: right;\n",
       "    }\n",
       "</style>\n",
       "<table border=\"1\" class=\"dataframe\">\n",
       "  <thead>\n",
       "    <tr style=\"text-align: right;\">\n",
       "      <th></th>\n",
       "      <th>col_1</th>\n",
       "      <th>col_2</th>\n",
       "    </tr>\n",
       "  </thead>\n",
       "  <tbody>\n",
       "    <tr>\n",
       "      <th>0</th>\n",
       "      <td>1</td>\n",
       "      <td>10</td>\n",
       "    </tr>\n",
       "    <tr>\n",
       "      <th>1</th>\n",
       "      <td>2</td>\n",
       "      <td>20</td>\n",
       "    </tr>\n",
       "    <tr>\n",
       "      <th>2</th>\n",
       "      <td>3</td>\n",
       "      <td>30</td>\n",
       "    </tr>\n",
       "    <tr>\n",
       "      <th>3</th>\n",
       "      <td>4</td>\n",
       "      <td>40</td>\n",
       "    </tr>\n",
       "    <tr>\n",
       "      <th>4</th>\n",
       "      <td>5</td>\n",
       "      <td>50</td>\n",
       "    </tr>\n",
       "  </tbody>\n",
       "</table>\n",
       "</div>"
      ],
      "text/plain": [
       "   col_1  col_2\n",
       "0      1     10\n",
       "1      2     20\n",
       "2      3     30\n",
       "3      4     40\n",
       "4      5     50"
      ]
     },
     "execution_count": 3,
     "metadata": {},
     "output_type": "execute_result"
    }
   ],
   "source": [
    "d = {'col_1': [1, 2, 3, 4, 5],\n",
    "     'col_2': [10, 20, 30, 40, 50]}\n",
    "df = pd.DataFrame(d)\n",
    "\n",
    "df"
   ]
  },
  {
   "cell_type": "markdown",
   "id": "748ad122",
   "metadata": {},
   "source": [
    "## Random sampling with/without replacement"
   ]
  },
  {
   "cell_type": "code",
   "execution_count": 4,
   "id": "196fa38f",
   "metadata": {},
   "outputs": [
    {
     "data": {
      "text/html": [
       "<div>\n",
       "<style scoped>\n",
       "    .dataframe tbody tr th:only-of-type {\n",
       "        vertical-align: middle;\n",
       "    }\n",
       "\n",
       "    .dataframe tbody tr th {\n",
       "        vertical-align: top;\n",
       "    }\n",
       "\n",
       "    .dataframe thead th {\n",
       "        text-align: right;\n",
       "    }\n",
       "</style>\n",
       "<table border=\"1\" class=\"dataframe\">\n",
       "  <thead>\n",
       "    <tr style=\"text-align: right;\">\n",
       "      <th></th>\n",
       "      <th>col_1</th>\n",
       "      <th>col_2</th>\n",
       "    </tr>\n",
       "  </thead>\n",
       "  <tbody>\n",
       "    <tr>\n",
       "      <th>2</th>\n",
       "      <td>3</td>\n",
       "      <td>30</td>\n",
       "    </tr>\n",
       "    <tr>\n",
       "      <th>0</th>\n",
       "      <td>1</td>\n",
       "      <td>10</td>\n",
       "    </tr>\n",
       "    <tr>\n",
       "      <th>1</th>\n",
       "      <td>2</td>\n",
       "      <td>20</td>\n",
       "    </tr>\n",
       "    <tr>\n",
       "      <th>3</th>\n",
       "      <td>4</td>\n",
       "      <td>40</td>\n",
       "    </tr>\n",
       "  </tbody>\n",
       "</table>\n",
       "</div>"
      ],
      "text/plain": [
       "   col_1  col_2\n",
       "2      3     30\n",
       "0      1     10\n",
       "1      2     20\n",
       "3      4     40"
      ]
     },
     "execution_count": 4,
     "metadata": {},
     "output_type": "execute_result"
    }
   ],
   "source": [
    "df.sample(n=4, replace=False, random_state=0)"
   ]
  },
  {
   "cell_type": "code",
   "execution_count": 5,
   "id": "1dba9c56",
   "metadata": {},
   "outputs": [
    {
     "data": {
      "text/html": [
       "<div>\n",
       "<style scoped>\n",
       "    .dataframe tbody tr th:only-of-type {\n",
       "        vertical-align: middle;\n",
       "    }\n",
       "\n",
       "    .dataframe tbody tr th {\n",
       "        vertical-align: top;\n",
       "    }\n",
       "\n",
       "    .dataframe thead th {\n",
       "        text-align: right;\n",
       "    }\n",
       "</style>\n",
       "<table border=\"1\" class=\"dataframe\">\n",
       "  <thead>\n",
       "    <tr style=\"text-align: right;\">\n",
       "      <th></th>\n",
       "      <th>col_1</th>\n",
       "      <th>col_2</th>\n",
       "    </tr>\n",
       "  </thead>\n",
       "  <tbody>\n",
       "    <tr>\n",
       "      <th>4</th>\n",
       "      <td>5</td>\n",
       "      <td>50</td>\n",
       "    </tr>\n",
       "    <tr>\n",
       "      <th>0</th>\n",
       "      <td>1</td>\n",
       "      <td>10</td>\n",
       "    </tr>\n",
       "    <tr>\n",
       "      <th>3</th>\n",
       "      <td>4</td>\n",
       "      <td>40</td>\n",
       "    </tr>\n",
       "    <tr>\n",
       "      <th>3</th>\n",
       "      <td>4</td>\n",
       "      <td>40</td>\n",
       "    </tr>\n",
       "  </tbody>\n",
       "</table>\n",
       "</div>"
      ],
      "text/plain": [
       "   col_1  col_2\n",
       "4      5     50\n",
       "0      1     10\n",
       "3      4     40\n",
       "3      4     40"
      ]
     },
     "execution_count": 5,
     "metadata": {},
     "output_type": "execute_result"
    }
   ],
   "source": [
    "df.sample(n=4, replace=True, random_state=0)"
   ]
  },
  {
   "cell_type": "markdown",
   "id": "07ea4769",
   "metadata": {},
   "source": [
    "## 📋 Penjelasan Random Sampling\n",
    "\n",
    "### 🎯 **Apa itu Random Sampling?**\n",
    "Random sampling adalah teknik untuk mengambil subset data secara acak dari DataFrame. Ini sangat berguna untuk:\n",
    "- **Data exploration** - Melihat contoh data tanpa memuat semua\n",
    "- **Testing** - Membuat dataset kecil untuk testing algoritma\n",
    "- **Machine Learning** - Membuat training/validation sets\n",
    "- **Performance** - Mengurangi beban komputasi pada dataset besar\n",
    "\n",
    "### 🔧 **Parameter `df.sample()`:**\n",
    "\n",
    "| Parameter | Deskripsi | Default | Contoh |\n",
    "|-----------|-----------|---------|---------|\n",
    "| `n` | Jumlah baris yang diambil | None | `n=5` |\n",
    "| `frac` | Proporsi data (0.0-1.0) | None | `frac=0.1` (10%) |\n",
    "| `replace` | Boleh duplikasi atau tidak | False | `replace=True` |\n",
    "| `random_state` | Seed untuk reprodusibilitas | None | `random_state=42` |\n",
    "| `axis` | Sampling baris (0) atau kolom (1) | 0 | `axis=1` |\n",
    "\n",
    "### 🔄 **Perbedaan `replace=True` vs `replace=False`:**\n",
    "\n",
    "**`replace=False` (Without Replacement)**\n",
    "- Setiap baris hanya bisa dipilih **sekali**\n",
    "- Tidak ada duplikasi dalam hasil\n",
    "- Maksimal bisa sample sebanyak jumlah baris asli\n",
    "- Default behavior\n",
    "\n",
    "**`replace=True` (With Replacement)**\n",
    "- Baris yang sama bisa dipilih **berulang kali**\n",
    "- Bisa ada duplikasi dalam hasil\n",
    "- Bisa sample lebih banyak dari jumlah baris asli\n",
    "- Berguna untuk bootstrap sampling\n",
    "\n",
    "### 🎲 **Parameter `random_state`:**\n",
    "- Mengontrol **seed** untuk random number generator\n",
    "- Dengan `random_state` yang sama → hasil **selalu sama**\n",
    "- Tanpa `random_state` → hasil **berbeda setiap run**\n",
    "- Penting untuk **reprodusibilitas** penelitian dan debugging\n",
    "\n",
    "### 💡 **Tips Penggunaan:**\n",
    "1. **Gunakan `frac=0.1`** untuk mengambil 10% data\n",
    "2. **Gunakan `random_state=0`** untuk hasil yang konsisten\n",
    "3. **Gunakan `replace=True`** untuk bootstrap sampling\n",
    "4. **Gunakan `axis=1`** untuk sample kolom (jarang digunakan)\n",
    "\n",
    "### 🚀 **Contoh Use Cases:**\n",
    "```python\n",
    "# Quick peek at large dataset\n",
    "df.sample(n=100)\n",
    "\n",
    "# Get 10% of data for testing\n",
    "df.sample(frac=0.1, random_state=42)\n",
    "\n",
    "# Bootstrap sampling for statistics\n",
    "df.sample(n=len(df), replace=True, random_state=123)\n",
    "\n",
    "# Consistent sampling for debugging\n",
    "df.sample(n=50, random_state=0)\n",
    "```"
   ]
  }
 ],
 "metadata": {
  "kernelspec": {
   "display_name": "Python 3",
   "language": "python",
   "name": "python3"
  },
  "language_info": {
   "codemirror_mode": {
    "name": "ipython",
    "version": 3
   },
   "file_extension": ".py",
   "mimetype": "text/x-python",
   "name": "python",
   "nbconvert_exporter": "python",
   "pygments_lexer": "ipython3",
   "version": "3.12.4"
  }
 },
 "nbformat": 4,
 "nbformat_minor": 5
}
