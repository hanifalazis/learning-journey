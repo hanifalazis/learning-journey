{
 "cells": [
  {
   "cell_type": "markdown",
   "id": "607d5def",
   "metadata": {},
   "source": [
    "# Akses nilai variabel pada `query()`"
   ]
  },
  {
   "cell_type": "markdown",
   "id": "53c7f5fd",
   "metadata": {},
   "source": [
    "## Import Modules"
   ]
  },
  {
   "cell_type": "code",
   "execution_count": 1,
   "id": "db9fb1a8",
   "metadata": {},
   "outputs": [
    {
     "name": "stdout",
     "output_type": "stream",
     "text": [
      "Pandas Version: 2.2.3\n",
      "Numpy Version: 2.1.3\n"
     ]
    }
   ],
   "source": [
    "import pandas as pd\n",
    "import numpy as np\n",
    "\n",
    "print(\"Pandas Version:\", pd.__version__)\n",
    "print(\"Numpy Version:\", np.__version__)"
   ]
  },
  {
   "cell_type": "markdown",
   "id": "f37c4009",
   "metadata": {},
   "source": [
    "## Persiapan Data Frame"
   ]
  },
  {
   "cell_type": "code",
   "execution_count": 2,
   "id": "1402f4a6",
   "metadata": {},
   "outputs": [
    {
     "data": {
      "text/html": [
       "<div>\n",
       "<style scoped>\n",
       "    .dataframe tbody tr th:only-of-type {\n",
       "        vertical-align: middle;\n",
       "    }\n",
       "\n",
       "    .dataframe tbody tr th {\n",
       "        vertical-align: top;\n",
       "    }\n",
       "\n",
       "    .dataframe thead th {\n",
       "        text-align: right;\n",
       "    }\n",
       "</style>\n",
       "<table border=\"1\" class=\"dataframe\">\n",
       "  <thead>\n",
       "    <tr style=\"text-align: right;\">\n",
       "      <th></th>\n",
       "      <th>A</th>\n",
       "      <th>B</th>\n",
       "      <th>C</th>\n",
       "      <th>D</th>\n",
       "      <th>E</th>\n",
       "    </tr>\n",
       "  </thead>\n",
       "  <tbody>\n",
       "    <tr>\n",
       "      <th>0</th>\n",
       "      <td>8</td>\n",
       "      <td>5</td>\n",
       "      <td>3</td>\n",
       "      <td>7</td>\n",
       "      <td>7</td>\n",
       "    </tr>\n",
       "    <tr>\n",
       "      <th>1</th>\n",
       "      <td>16</td>\n",
       "      <td>17</td>\n",
       "      <td>10</td>\n",
       "      <td>8</td>\n",
       "      <td>11</td>\n",
       "    </tr>\n",
       "    <tr>\n",
       "      <th>2</th>\n",
       "      <td>15</td>\n",
       "      <td>19</td>\n",
       "      <td>9</td>\n",
       "      <td>4</td>\n",
       "      <td>11</td>\n",
       "    </tr>\n",
       "    <tr>\n",
       "      <th>3</th>\n",
       "      <td>17</td>\n",
       "      <td>7</td>\n",
       "      <td>13</td>\n",
       "      <td>2</td>\n",
       "      <td>19</td>\n",
       "    </tr>\n",
       "    <tr>\n",
       "      <th>4</th>\n",
       "      <td>13</td>\n",
       "      <td>12</td>\n",
       "      <td>4</td>\n",
       "      <td>16</td>\n",
       "      <td>14</td>\n",
       "    </tr>\n",
       "  </tbody>\n",
       "</table>\n",
       "</div>"
      ],
      "text/plain": [
       "    A   B   C   D   E\n",
       "0   8   5   3   7   7\n",
       "1  16  17  10   8  11\n",
       "2  15  19   9   4  11\n",
       "3  17   7  13   2  19\n",
       "4  13  12   4  16  14"
      ]
     },
     "execution_count": 2,
     "metadata": {},
     "output_type": "execute_result"
    }
   ],
   "source": [
    "n_rows = 5\n",
    "n_cols = 5\n",
    "cols = tuple('ABCDE')\n",
    "\n",
    "df = pd.DataFrame(np.random.randint(1, 20, size=(n_rows, n_cols)),\n",
    "                  columns=cols)\n",
    "df"
   ]
  },
  {
   "cell_type": "markdown",
   "id": "0c3deeb1",
   "metadata": {},
   "source": [
    "## Akses nilai variabel pada `query()`"
   ]
  },
  {
   "cell_type": "code",
   "execution_count": 4,
   "id": "45e15bb9",
   "metadata": {},
   "outputs": [
    {
     "data": {
      "text/html": [
       "<div>\n",
       "<style scoped>\n",
       "    .dataframe tbody tr th:only-of-type {\n",
       "        vertical-align: middle;\n",
       "    }\n",
       "\n",
       "    .dataframe tbody tr th {\n",
       "        vertical-align: top;\n",
       "    }\n",
       "\n",
       "    .dataframe thead th {\n",
       "        text-align: right;\n",
       "    }\n",
       "</style>\n",
       "<table border=\"1\" class=\"dataframe\">\n",
       "  <thead>\n",
       "    <tr style=\"text-align: right;\">\n",
       "      <th></th>\n",
       "      <th>A</th>\n",
       "      <th>B</th>\n",
       "      <th>C</th>\n",
       "      <th>D</th>\n",
       "      <th>E</th>\n",
       "    </tr>\n",
       "  </thead>\n",
       "  <tbody>\n",
       "    <tr>\n",
       "      <th>1</th>\n",
       "      <td>16</td>\n",
       "      <td>17</td>\n",
       "      <td>10</td>\n",
       "      <td>8</td>\n",
       "      <td>11</td>\n",
       "    </tr>\n",
       "    <tr>\n",
       "      <th>2</th>\n",
       "      <td>15</td>\n",
       "      <td>19</td>\n",
       "      <td>9</td>\n",
       "      <td>4</td>\n",
       "      <td>11</td>\n",
       "    </tr>\n",
       "    <tr>\n",
       "      <th>3</th>\n",
       "      <td>17</td>\n",
       "      <td>7</td>\n",
       "      <td>13</td>\n",
       "      <td>2</td>\n",
       "      <td>19</td>\n",
       "    </tr>\n",
       "    <tr>\n",
       "      <th>4</th>\n",
       "      <td>13</td>\n",
       "      <td>12</td>\n",
       "      <td>4</td>\n",
       "      <td>16</td>\n",
       "      <td>14</td>\n",
       "    </tr>\n",
       "  </tbody>\n",
       "</table>\n",
       "</div>"
      ],
      "text/plain": [
       "    A   B   C   D   E\n",
       "1  16  17  10   8  11\n",
       "2  15  19   9   4  11\n",
       "3  17   7  13   2  19\n",
       "4  13  12   4  16  14"
      ]
     },
     "execution_count": 4,
     "metadata": {},
     "output_type": "execute_result"
    }
   ],
   "source": [
    "df.query('A > 10')"
   ]
  },
  {
   "cell_type": "code",
   "execution_count": 5,
   "id": "e1046d91",
   "metadata": {},
   "outputs": [
    {
     "data": {
      "text/plain": [
       "np.float64(13.8)"
      ]
     },
     "execution_count": 5,
     "metadata": {},
     "output_type": "execute_result"
    }
   ],
   "source": [
    "rerata = df['A'].mean()\n",
    "rerata"
   ]
  },
  {
   "cell_type": "code",
   "execution_count": 6,
   "id": "981830aa",
   "metadata": {},
   "outputs": [
    {
     "data": {
      "text/html": [
       "<div>\n",
       "<style scoped>\n",
       "    .dataframe tbody tr th:only-of-type {\n",
       "        vertical-align: middle;\n",
       "    }\n",
       "\n",
       "    .dataframe tbody tr th {\n",
       "        vertical-align: top;\n",
       "    }\n",
       "\n",
       "    .dataframe thead th {\n",
       "        text-align: right;\n",
       "    }\n",
       "</style>\n",
       "<table border=\"1\" class=\"dataframe\">\n",
       "  <thead>\n",
       "    <tr style=\"text-align: right;\">\n",
       "      <th></th>\n",
       "      <th>A</th>\n",
       "      <th>B</th>\n",
       "      <th>C</th>\n",
       "      <th>D</th>\n",
       "      <th>E</th>\n",
       "    </tr>\n",
       "  </thead>\n",
       "  <tbody>\n",
       "    <tr>\n",
       "      <th>1</th>\n",
       "      <td>16</td>\n",
       "      <td>17</td>\n",
       "      <td>10</td>\n",
       "      <td>8</td>\n",
       "      <td>11</td>\n",
       "    </tr>\n",
       "    <tr>\n",
       "      <th>2</th>\n",
       "      <td>15</td>\n",
       "      <td>19</td>\n",
       "      <td>9</td>\n",
       "      <td>4</td>\n",
       "      <td>11</td>\n",
       "    </tr>\n",
       "    <tr>\n",
       "      <th>3</th>\n",
       "      <td>17</td>\n",
       "      <td>7</td>\n",
       "      <td>13</td>\n",
       "      <td>2</td>\n",
       "      <td>19</td>\n",
       "    </tr>\n",
       "  </tbody>\n",
       "</table>\n",
       "</div>"
      ],
      "text/plain": [
       "    A   B   C  D   E\n",
       "1  16  17  10  8  11\n",
       "2  15  19   9  4  11\n",
       "3  17   7  13  2  19"
      ]
     },
     "execution_count": 6,
     "metadata": {},
     "output_type": "execute_result"
    }
   ],
   "source": [
    "df.query('A > @rerata')"
   ]
  },
  {
   "cell_type": "markdown",
   "id": "2bc22e5b",
   "metadata": {},
   "source": [
    "## 📝 Kesimpulan\n",
    "\n",
    "### 🎯 **Ringkasan Pembelajaran**\n",
    "\n",
    "Pada notebook ini, kita telah mempelajari cara **mengakses nilai variabel** dalam method `query()` pandas. Fitur ini sangat powerful untuk membuat filtering yang dinamis dan fleksibel.\n",
    "\n",
    "### 🔧 **Poin-Poin Penting:**\n",
    "\n",
    "#### 1. **Syntax Dasar `query()`**\n",
    "```python\n",
    "df.query('column_name > value')\n",
    "```\n",
    "- Menggunakan **string expression** untuk kondisi filtering\n",
    "- Mirip dengan SQL WHERE clause\n",
    "- Lebih readable daripada boolean indexing\n",
    "\n",
    "#### 2. **Mengakses Variabel dengan `@`**\n",
    "```python\n",
    "threshold = 10\n",
    "df.query('A > @threshold')\n",
    "```\n",
    "- Gunakan **`@`** untuk mengakses variabel dari environment\n",
    "- Variabel bisa berupa angka, string, atau hasil perhitungan\n",
    "- Memungkinkan filtering yang **dinamis** dan **programmable**\n",
    "\n",
    "#### 3. **Keuntungan Menggunakan Variabel:**\n",
    "- **🔄 Dynamic Filtering**: Threshold bisa berubah tanpa mengubah query\n",
    "- **📊 Calculated Values**: Bisa menggunakan hasil perhitungan (mean, median, dll)\n",
    "- **🎯 Cleaner Code**: Code lebih readable dan maintainable\n",
    "- **🚀 Performance**: Query method sering lebih cepat untuk dataset besar\n",
    "\n",
    "### 💡 **Best Practices:**\n",
    "\n",
    "1. **Gunakan nama variabel yang deskriptif**\n",
    "   ```python\n",
    "   average_score = df['score'].mean()\n",
    "   df.query('score > @average_score')\n",
    "   ```\n",
    "\n",
    "2. **Kombinasikan dengan operasi pandas lainnya**\n",
    "   ```python\n",
    "   threshold = df['column'].quantile(0.75)  # Top 25%\n",
    "   df.query('column > @threshold')\n",
    "   ```\n",
    "\n",
    "3. **Gunakan untuk multiple conditions**\n",
    "   ```python\n",
    "   min_val = 5\n",
    "   max_val = 15\n",
    "   df.query('@min_val < A < @max_val')\n",
    "   ```\n",
    "\n",
    "### 🔄 **Perbandingan dengan Boolean Indexing:**\n",
    "\n",
    "| Method | Syntax | Readability | Performance |\n",
    "|--------|--------|-------------|-------------|\n",
    "| **Boolean Indexing** | `df[df['A'] > threshold]` | ⭐⭐⭐ | ⭐⭐⭐ |\n",
    "| **Query Method** | `df.query('A > @threshold')` | ⭐⭐⭐⭐⭐ | ⭐⭐⭐⭐ |\n",
    "\n",
    "### 🎯 **Kapan Menggunakan Query:**\n",
    "- ✅ **Complex conditions** dengan multiple criteria\n",
    "- ✅ **Dynamic filtering** dengan variable thresholds\n",
    "- ✅ **String operations** dan pattern matching\n",
    "- ✅ **Large datasets** (numexpr optimization)\n",
    "- ✅ **Readable code** untuk team collaboration\n",
    "\n",
    "Dengan menguasai `query()` method dan variable access menggunakan `@`, kita bisa membuat data filtering yang lebih powerful, fleksibel, dan mudah dibaca! 🚀"
   ]
  }
 ],
 "metadata": {
  "kernelspec": {
   "display_name": "Python 3",
   "language": "python",
   "name": "python3"
  },
  "language_info": {
   "codemirror_mode": {
    "name": "ipython",
    "version": 3
   },
   "file_extension": ".py",
   "mimetype": "text/x-python",
   "name": "python",
   "nbconvert_exporter": "python",
   "pygments_lexer": "ipython3",
   "version": "3.12.4"
  }
 },
 "nbformat": 4,
 "nbformat_minor": 5
}
