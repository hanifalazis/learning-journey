{
 "cells": [
  {
   "cell_type": "markdown",
   "id": "3eba6da5",
   "metadata": {},
   "source": [
    "# Mengenal tipe data ordinal pada Pandas"
   ]
  },
  {
   "cell_type": "markdown",
   "id": "5a71ae4c",
   "metadata": {},
   "source": [
    "# Import Modules"
   ]
  },
  {
   "cell_type": "code",
   "execution_count": 1,
   "id": "855dbcdf",
   "metadata": {},
   "outputs": [
    {
     "name": "stdout",
     "output_type": "stream",
     "text": [
      "Pandas version: 2.2.3\n"
     ]
    }
   ],
   "source": [
    "import pandas as pd\n",
    "\n",
    "print(\"Pandas version:\", pd.__version__)"
   ]
  },
  {
   "cell_type": "markdown",
   "id": "97c3dc3a",
   "metadata": {},
   "source": [
    "## Persiapan Data Frame"
   ]
  },
  {
   "cell_type": "code",
   "execution_count": 2,
   "id": "f2594c2a",
   "metadata": {},
   "outputs": [
    {
     "data": {
      "text/html": [
       "<div>\n",
       "<style scoped>\n",
       "    .dataframe tbody tr th:only-of-type {\n",
       "        vertical-align: middle;\n",
       "    }\n",
       "\n",
       "    .dataframe tbody tr th {\n",
       "        vertical-align: top;\n",
       "    }\n",
       "\n",
       "    .dataframe thead th {\n",
       "        text-align: right;\n",
       "    }\n",
       "</style>\n",
       "<table border=\"1\" class=\"dataframe\">\n",
       "  <thead>\n",
       "    <tr style=\"text-align: right;\">\n",
       "      <th></th>\n",
       "      <th>pelanggan</th>\n",
       "      <th>kepuasan</th>\n",
       "    </tr>\n",
       "  </thead>\n",
       "  <tbody>\n",
       "    <tr>\n",
       "      <th>0</th>\n",
       "      <td>11</td>\n",
       "      <td>baik</td>\n",
       "    </tr>\n",
       "    <tr>\n",
       "      <th>1</th>\n",
       "      <td>12</td>\n",
       "      <td>cukup</td>\n",
       "    </tr>\n",
       "    <tr>\n",
       "      <th>2</th>\n",
       "      <td>13</td>\n",
       "      <td>buruk</td>\n",
       "    </tr>\n",
       "    <tr>\n",
       "      <th>3</th>\n",
       "      <td>14</td>\n",
       "      <td>cukup</td>\n",
       "    </tr>\n",
       "  </tbody>\n",
       "</table>\n",
       "</div>"
      ],
      "text/plain": [
       "   pelanggan kepuasan\n",
       "0         11     baik\n",
       "1         12    cukup\n",
       "2         13    buruk\n",
       "3         14    cukup"
      ]
     },
     "execution_count": 2,
     "metadata": {},
     "output_type": "execute_result"
    }
   ],
   "source": [
    "d = {'pelanggan': [11, 12, 13, 14],\n",
    "     'kepuasan': ['baik', 'cukup', 'buruk', 'cukup']}\n",
    "\n",
    "df = pd.DataFrame(d)\n",
    "df"
   ]
  },
  {
   "cell_type": "markdown",
   "id": "fa158d86",
   "metadata": {},
   "source": [
    "## Tipe data ordinal pada Pandas"
   ]
  },
  {
   "cell_type": "code",
   "execution_count": null,
   "id": "867a4fae",
   "metadata": {},
   "outputs": [
    {
     "data": {
      "text/html": [
       "<div>\n",
       "<style scoped>\n",
       "    .dataframe tbody tr th:only-of-type {\n",
       "        vertical-align: middle;\n",
       "    }\n",
       "\n",
       "    .dataframe tbody tr th {\n",
       "        vertical-align: top;\n",
       "    }\n",
       "\n",
       "    .dataframe thead th {\n",
       "        text-align: right;\n",
       "    }\n",
       "</style>\n",
       "<table border=\"1\" class=\"dataframe\">\n",
       "  <thead>\n",
       "    <tr style=\"text-align: right;\">\n",
       "      <th></th>\n",
       "      <th>pelanggan</th>\n",
       "      <th>kepuasan</th>\n",
       "    </tr>\n",
       "  </thead>\n",
       "  <tbody>\n",
       "    <tr>\n",
       "      <th>0</th>\n",
       "      <td>11</td>\n",
       "      <td>baik</td>\n",
       "    </tr>\n",
       "    <tr>\n",
       "      <th>1</th>\n",
       "      <td>12</td>\n",
       "      <td>cukup</td>\n",
       "    </tr>\n",
       "    <tr>\n",
       "      <th>2</th>\n",
       "      <td>13</td>\n",
       "      <td>buruk</td>\n",
       "    </tr>\n",
       "    <tr>\n",
       "      <th>3</th>\n",
       "      <td>14</td>\n",
       "      <td>cukup</td>\n",
       "    </tr>\n",
       "  </tbody>\n",
       "</table>\n",
       "</div>"
      ],
      "text/plain": [
       "   pelanggan kepuasan\n",
       "0         11     baik\n",
       "1         12    cukup\n",
       "2         13    buruk\n",
       "3         14    cukup"
      ]
     },
     "execution_count": 3,
     "metadata": {},
     "output_type": "execute_result"
    }
   ],
   "source": [
    "from pandas.api.types import CategoricalDtype\n",
    "\n",
    "tingkat_kepuasan = CategoricalDtype(categories=['buruk', 'cukup', 'baik'], ordered=True)\n",
    "\n",
    "df['kepuasan'] = df['kepuasan'].astype(tingkat_kepuasan)\n",
    "df"
   ]
  },
  {
   "cell_type": "code",
   "execution_count": 13,
   "id": "c529936b",
   "metadata": {},
   "outputs": [
    {
     "data": {
      "text/html": [
       "<div>\n",
       "<style scoped>\n",
       "    .dataframe tbody tr th:only-of-type {\n",
       "        vertical-align: middle;\n",
       "    }\n",
       "\n",
       "    .dataframe tbody tr th {\n",
       "        vertical-align: top;\n",
       "    }\n",
       "\n",
       "    .dataframe thead th {\n",
       "        text-align: right;\n",
       "    }\n",
       "</style>\n",
       "<table border=\"1\" class=\"dataframe\">\n",
       "  <thead>\n",
       "    <tr style=\"text-align: right;\">\n",
       "      <th></th>\n",
       "      <th>pelanggan</th>\n",
       "      <th>kepuasan</th>\n",
       "    </tr>\n",
       "  </thead>\n",
       "  <tbody>\n",
       "    <tr>\n",
       "      <th>0</th>\n",
       "      <td>11</td>\n",
       "      <td>baik</td>\n",
       "    </tr>\n",
       "    <tr>\n",
       "      <th>1</th>\n",
       "      <td>12</td>\n",
       "      <td>cukup</td>\n",
       "    </tr>\n",
       "    <tr>\n",
       "      <th>3</th>\n",
       "      <td>14</td>\n",
       "      <td>cukup</td>\n",
       "    </tr>\n",
       "    <tr>\n",
       "      <th>2</th>\n",
       "      <td>13</td>\n",
       "      <td>buruk</td>\n",
       "    </tr>\n",
       "  </tbody>\n",
       "</table>\n",
       "</div>"
      ],
      "text/plain": [
       "   pelanggan kepuasan\n",
       "0         11     baik\n",
       "1         12    cukup\n",
       "3         14    cukup\n",
       "2         13    buruk"
      ]
     },
     "execution_count": 13,
     "metadata": {},
     "output_type": "execute_result"
    }
   ],
   "source": [
    "df = df.sort_values('kepuasan', ascending=False)\n",
    "df"
   ]
  },
  {
   "cell_type": "code",
   "execution_count": 7,
   "id": "14161215",
   "metadata": {},
   "outputs": [
    {
     "data": {
      "text/html": [
       "<div>\n",
       "<style scoped>\n",
       "    .dataframe tbody tr th:only-of-type {\n",
       "        vertical-align: middle;\n",
       "    }\n",
       "\n",
       "    .dataframe tbody tr th {\n",
       "        vertical-align: top;\n",
       "    }\n",
       "\n",
       "    .dataframe thead th {\n",
       "        text-align: right;\n",
       "    }\n",
       "</style>\n",
       "<table border=\"1\" class=\"dataframe\">\n",
       "  <thead>\n",
       "    <tr style=\"text-align: right;\">\n",
       "      <th></th>\n",
       "      <th>pelanggan</th>\n",
       "      <th>kepuasan</th>\n",
       "    </tr>\n",
       "  </thead>\n",
       "  <tbody>\n",
       "    <tr>\n",
       "      <th>0</th>\n",
       "      <td>11</td>\n",
       "      <td>baik</td>\n",
       "    </tr>\n",
       "  </tbody>\n",
       "</table>\n",
       "</div>"
      ],
      "text/plain": [
       "   pelanggan kepuasan\n",
       "0         11     baik"
      ]
     },
     "execution_count": 7,
     "metadata": {},
     "output_type": "execute_result"
    }
   ],
   "source": [
    "df[df['kepuasan'] > 'cukup']"
   ]
  },
  {
   "cell_type": "code",
   "execution_count": 8,
   "id": "640b7972",
   "metadata": {},
   "outputs": [
    {
     "data": {
      "text/html": [
       "<div>\n",
       "<style scoped>\n",
       "    .dataframe tbody tr th:only-of-type {\n",
       "        vertical-align: middle;\n",
       "    }\n",
       "\n",
       "    .dataframe tbody tr th {\n",
       "        vertical-align: top;\n",
       "    }\n",
       "\n",
       "    .dataframe thead th {\n",
       "        text-align: right;\n",
       "    }\n",
       "</style>\n",
       "<table border=\"1\" class=\"dataframe\">\n",
       "  <thead>\n",
       "    <tr style=\"text-align: right;\">\n",
       "      <th></th>\n",
       "      <th>pelanggan</th>\n",
       "      <th>kepuasan</th>\n",
       "    </tr>\n",
       "  </thead>\n",
       "  <tbody>\n",
       "    <tr>\n",
       "      <th>0</th>\n",
       "      <td>11</td>\n",
       "      <td>baik</td>\n",
       "    </tr>\n",
       "    <tr>\n",
       "      <th>1</th>\n",
       "      <td>12</td>\n",
       "      <td>cukup</td>\n",
       "    </tr>\n",
       "    <tr>\n",
       "      <th>3</th>\n",
       "      <td>14</td>\n",
       "      <td>cukup</td>\n",
       "    </tr>\n",
       "  </tbody>\n",
       "</table>\n",
       "</div>"
      ],
      "text/plain": [
       "   pelanggan kepuasan\n",
       "0         11     baik\n",
       "1         12    cukup\n",
       "3         14    cukup"
      ]
     },
     "execution_count": 8,
     "metadata": {},
     "output_type": "execute_result"
    }
   ],
   "source": [
    "df[df['kepuasan'] >= 'cukup']"
   ]
  },
  {
   "cell_type": "markdown",
   "id": "8b3f93c2",
   "metadata": {},
   "source": [
    "## 📝 Kesimpulan\n",
    "\n",
    "### 🎯 **Ringkasan Pembelajaran: Tipe Data Ordinal pada Pandas**\n",
    "\n",
    "Pada notebook ini, kita telah mempelajari cara menggunakan **tipe data ordinal** (Categorical dengan urutan) di pandas. Konsep ini sangat penting untuk data yang memiliki tingkatan atau urutan logis.\n",
    "\n",
    "### 🔧 **Konsep Utama:**\n",
    "\n",
    "#### 1. **Apa itu Data Ordinal?**\n",
    "- Data kategorikal yang memiliki **urutan/ranking** yang bermakna\n",
    "- Contoh: tingkat kepuasan (`buruk` < `cukup` < `baik`)\n",
    "- Berbeda dengan data nominal yang tidak punya urutan\n",
    "\n",
    "#### 2. **Implementasi dengan `CategoricalDtype`**\n",
    "```python\n",
    "from pandas.api.types import CategoricalDtype\n",
    "\n",
    "# Definisi urutan yang eksplisit\n",
    "tingkat_kepuasan = CategoricalDtype(\n",
    "    categories=['buruk', 'cukup', 'baik'], \n",
    "    ordered=True\n",
    ")\n",
    "\n",
    "# Konversi kolom ke tipe ordinal\n",
    "df['kepuasan'] = df['kepuasan'].astype(tingkat_kepuasan)\n",
    "```\n",
    "\n",
    "#### 3. **Parameter `ordered=True`**\n",
    "- **Kunci utama** untuk membuat data categorical menjadi ordinal\n",
    "- Memungkinkan operasi perbandingan (`>`, `<`, `>=`, `<=`)\n",
    "- Memungkinkan sorting yang logis\n",
    "\n",
    "### 🚀 **Keuntungan Data Ordinal:**\n",
    "\n",
    "#### **1. Sorting yang Bermakna**\n",
    "```python\n",
    "df.sort_values('kepuasan', ascending=False)\n",
    "# Output: baik → cukup → buruk (sesuai urutan logis)\n",
    "```\n",
    "\n",
    "#### **2. Filtering dengan Perbandingan**\n",
    "```python\n",
    "df[df['kepuasan'] > 'cukup']     # Hanya yang 'baik'\n",
    "df[df['kepuasan'] >= 'cukup']    # 'cukup' dan 'baik'\n",
    "```\n",
    "\n",
    "#### **3. Memory Efficiency**\n",
    "- Menyimpan sebagai integers internally\n",
    "- Lebih hemat memory dibanding string biasa\n",
    "- Faster operations untuk dataset besar\n",
    "\n",
    "### 💡 **Best Practices:**\n",
    "\n",
    "1. **Definisi Urutan yang Jelas**\n",
    "   - Urutkan categories dari rendah ke tinggi\n",
    "   - Gunakan nama yang intuitif dan konsisten\n",
    "\n",
    "2. **Validasi Data**\n",
    "   - Pastikan semua nilai ada dalam categories\n",
    "   - Handle missing values dengan tepat\n",
    "\n",
    "3. **Konsistensi**\n",
    "   - Gunakan urutan yang sama di seluruh aplikasi\n",
    "   - Dokumentasikan urutan untuk tim\n",
    "\n",
    "### 🔄 **Perbandingan: String vs Ordinal**\n",
    "\n",
    "| Aspek | String Biasa | Ordinal Categorical |\n",
    "|-------|-------------|-------------------|\n",
    "| **Sorting** | Alphabetical | Logical order ✅ |\n",
    "| **Comparison** | Alphabetical | Meaningful ✅ |\n",
    "| **Memory** | Higher | Lower ✅ |\n",
    "| **Performance** | Slower | Faster ✅ |\n",
    "\n",
    "### 🎯 **Use Cases Praktis:**\n",
    "\n",
    "- **Survei kepuasan**: Sangat Buruk → Buruk → Netral → Baik → Sangat Baik\n",
    "- **Grade akademik**: F → D → C → B → A\n",
    "- **Tingkat pendidikan**: SD → SMP → SMA → S1 → S2 → S3\n",
    "- **Size pakaian**: XS → S → M → L → XL → XXL\n",
    "\n",
    "### 📊 **Tips untuk Implementasi:**\n",
    "\n",
    "1. **Selalu gunakan `ordered=True`** untuk data ordinal\n",
    "2. **Definisikan categories secara eksplisit** untuk menghindari ambiguitas\n",
    "3. **Test sorting dan comparison** setelah konversi\n",
    "4. **Dokumentasikan urutan** untuk referensi tim\n",
    "\n",
    "Dengan menguasai tipe data ordinal, kita bisa melakukan analisis yang lebih akurat dan meaningful pada data kategorikal yang memiliki urutan natural! 🎓"
   ]
  }
 ],
 "metadata": {
  "kernelspec": {
   "display_name": "Python 3",
   "language": "python",
   "name": "python3"
  },
  "language_info": {
   "codemirror_mode": {
    "name": "ipython",
    "version": 3
   },
   "file_extension": ".py",
   "mimetype": "text/x-python",
   "name": "python",
   "nbconvert_exporter": "python",
   "pygments_lexer": "ipython3",
   "version": "3.12.4"
  }
 },
 "nbformat": 4,
 "nbformat_minor": 5
}
