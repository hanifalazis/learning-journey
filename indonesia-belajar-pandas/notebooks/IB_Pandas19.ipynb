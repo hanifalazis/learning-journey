{
 "cells": [
  {
   "cell_type": "markdown",
   "id": "b6027c5b",
   "metadata": {},
   "source": [
    "# Formatting tampilan Data Frame"
   ]
  },
  {
   "cell_type": "markdown",
   "id": "1d1012c7",
   "metadata": {},
   "source": [
    "## Import Modules"
   ]
  },
  {
   "cell_type": "code",
   "execution_count": 19,
   "id": "7b518e6f",
   "metadata": {},
   "outputs": [
    {
     "name": "stdout",
     "output_type": "stream",
     "text": [
      "version pandas: 2.2.3 \n",
      "version numpy: 2.1.3\n"
     ]
    }
   ],
   "source": [
    "import pandas as pd\n",
    "import numpy as np\n",
    "\n",
    "print(\"version pandas:\", pd.__version__,\n",
    "      \"\\nversion numpy:\", np.__version__)"
   ]
  },
  {
   "cell_type": "markdown",
   "id": "16b60e3e",
   "metadata": {},
   "source": [
    "## Persiapan Data Frame"
   ]
  },
  {
   "cell_type": "code",
   "execution_count": 20,
   "id": "cb8432cb",
   "metadata": {},
   "outputs": [
    {
     "data": {
      "text/html": [
       "<div>\n",
       "<style scoped>\n",
       "    .dataframe tbody tr th:only-of-type {\n",
       "        vertical-align: middle;\n",
       "    }\n",
       "\n",
       "    .dataframe tbody tr th {\n",
       "        vertical-align: top;\n",
       "    }\n",
       "\n",
       "    .dataframe thead th {\n",
       "        text-align: right;\n",
       "    }\n",
       "</style>\n",
       "<table border=\"1\" class=\"dataframe\">\n",
       "  <thead>\n",
       "    <tr style=\"text-align: right;\">\n",
       "      <th></th>\n",
       "      <th>omzet</th>\n",
       "      <th>operasional</th>\n",
       "    </tr>\n",
       "  </thead>\n",
       "  <tbody>\n",
       "    <tr>\n",
       "      <th>0</th>\n",
       "      <td>5</td>\n",
       "      <td>10</td>\n",
       "    </tr>\n",
       "    <tr>\n",
       "      <th>1</th>\n",
       "      <td>7</td>\n",
       "      <td>5</td>\n",
       "    </tr>\n",
       "    <tr>\n",
       "      <th>2</th>\n",
       "      <td>10</td>\n",
       "      <td>1</td>\n",
       "    </tr>\n",
       "    <tr>\n",
       "      <th>3</th>\n",
       "      <td>5</td>\n",
       "      <td>12</td>\n",
       "    </tr>\n",
       "    <tr>\n",
       "      <th>4</th>\n",
       "      <td>1</td>\n",
       "      <td>15</td>\n",
       "    </tr>\n",
       "  </tbody>\n",
       "</table>\n",
       "</div>"
      ],
      "text/plain": [
       "   omzet  operasional\n",
       "0      5           10\n",
       "1      7            5\n",
       "2     10            1\n",
       "3      5           12\n",
       "4      1           15"
      ]
     },
     "execution_count": 20,
     "metadata": {},
     "output_type": "execute_result"
    }
   ],
   "source": [
    "n_rows = 5\n",
    "n_cols = 2\n",
    "cols = ['omzet', 'operasional']\n",
    "\n",
    "df = pd.DataFrame(\n",
    "    np.random.randint(1, 20, size=(n_rows, n_cols)),\n",
    "    columns=cols\n",
    ")\n",
    "\n",
    "df"
   ]
  },
  {
   "cell_type": "code",
   "execution_count": 21,
   "id": "865363dc",
   "metadata": {},
   "outputs": [
    {
     "data": {
      "text/html": [
       "<div>\n",
       "<style scoped>\n",
       "    .dataframe tbody tr th:only-of-type {\n",
       "        vertical-align: middle;\n",
       "    }\n",
       "\n",
       "    .dataframe tbody tr th {\n",
       "        vertical-align: top;\n",
       "    }\n",
       "\n",
       "    .dataframe thead th {\n",
       "        text-align: right;\n",
       "    }\n",
       "</style>\n",
       "<table border=\"1\" class=\"dataframe\">\n",
       "  <thead>\n",
       "    <tr style=\"text-align: right;\">\n",
       "      <th></th>\n",
       "      <th>omzet</th>\n",
       "      <th>operasional</th>\n",
       "    </tr>\n",
       "  </thead>\n",
       "  <tbody>\n",
       "    <tr>\n",
       "      <th>0</th>\n",
       "      <td>500000</td>\n",
       "      <td>100000</td>\n",
       "    </tr>\n",
       "    <tr>\n",
       "      <th>1</th>\n",
       "      <td>700000</td>\n",
       "      <td>50000</td>\n",
       "    </tr>\n",
       "    <tr>\n",
       "      <th>2</th>\n",
       "      <td>1000000</td>\n",
       "      <td>10000</td>\n",
       "    </tr>\n",
       "    <tr>\n",
       "      <th>3</th>\n",
       "      <td>500000</td>\n",
       "      <td>120000</td>\n",
       "    </tr>\n",
       "    <tr>\n",
       "      <th>4</th>\n",
       "      <td>100000</td>\n",
       "      <td>150000</td>\n",
       "    </tr>\n",
       "  </tbody>\n",
       "</table>\n",
       "</div>"
      ],
      "text/plain": [
       "     omzet  operasional\n",
       "0   500000       100000\n",
       "1   700000        50000\n",
       "2  1000000        10000\n",
       "3   500000       120000\n",
       "4   100000       150000"
      ]
     },
     "execution_count": 21,
     "metadata": {},
     "output_type": "execute_result"
    }
   ],
   "source": [
    "df['omzet'] = df['omzet'] * 100_000\n",
    "df['operasional'] = df['operasional'] * 10_000\n",
    "\n",
    "df"
   ]
  },
  {
   "cell_type": "code",
   "execution_count": 22,
   "id": "d1886532",
   "metadata": {},
   "outputs": [
    {
     "data": {
      "text/html": [
       "<div>\n",
       "<style scoped>\n",
       "    .dataframe tbody tr th:only-of-type {\n",
       "        vertical-align: middle;\n",
       "    }\n",
       "\n",
       "    .dataframe tbody tr th {\n",
       "        vertical-align: top;\n",
       "    }\n",
       "\n",
       "    .dataframe thead th {\n",
       "        text-align: right;\n",
       "    }\n",
       "</style>\n",
       "<table border=\"1\" class=\"dataframe\">\n",
       "  <thead>\n",
       "    <tr style=\"text-align: right;\">\n",
       "      <th></th>\n",
       "      <th>tanggal</th>\n",
       "      <th>omzet</th>\n",
       "      <th>operasional</th>\n",
       "    </tr>\n",
       "  </thead>\n",
       "  <tbody>\n",
       "    <tr>\n",
       "      <th>0</th>\n",
       "      <td>2000-01-01</td>\n",
       "      <td>500000</td>\n",
       "      <td>100000</td>\n",
       "    </tr>\n",
       "    <tr>\n",
       "      <th>1</th>\n",
       "      <td>2000-01-02</td>\n",
       "      <td>700000</td>\n",
       "      <td>50000</td>\n",
       "    </tr>\n",
       "    <tr>\n",
       "      <th>2</th>\n",
       "      <td>2000-01-03</td>\n",
       "      <td>1000000</td>\n",
       "      <td>10000</td>\n",
       "    </tr>\n",
       "    <tr>\n",
       "      <th>3</th>\n",
       "      <td>2000-01-04</td>\n",
       "      <td>500000</td>\n",
       "      <td>120000</td>\n",
       "    </tr>\n",
       "    <tr>\n",
       "      <th>4</th>\n",
       "      <td>2000-01-05</td>\n",
       "      <td>100000</td>\n",
       "      <td>150000</td>\n",
       "    </tr>\n",
       "  </tbody>\n",
       "</table>\n",
       "</div>"
      ],
      "text/plain": [
       "     tanggal    omzet  operasional\n",
       "0 2000-01-01   500000       100000\n",
       "1 2000-01-02   700000        50000\n",
       "2 2000-01-03  1000000        10000\n",
       "3 2000-01-04   500000       120000\n",
       "4 2000-01-05   100000       150000"
      ]
     },
     "execution_count": 22,
     "metadata": {},
     "output_type": "execute_result"
    }
   ],
   "source": [
    "df.index = pd.date_range(start='2000-01-01', periods=n_rows, freq='D')\n",
    "df = df.reset_index()\n",
    "df = df.rename(columns={'index': 'tanggal'})\n",
    "df"
   ]
  },
  {
   "cell_type": "markdown",
   "id": "46d38487",
   "metadata": {},
   "source": [
    "## Melakukan formatting tampilan Data Frame"
   ]
  },
  {
   "cell_type": "code",
   "execution_count": 23,
   "id": "1bec4ecd",
   "metadata": {},
   "outputs": [
    {
     "data": {
      "text/html": [
       "<style type=\"text/css\">\n",
       "</style>\n",
       "<table id=\"T_affcd\">\n",
       "  <thead>\n",
       "    <tr>\n",
       "      <th class=\"blank level0\" >&nbsp;</th>\n",
       "      <th id=\"T_affcd_level0_col0\" class=\"col_heading level0 col0\" >tanggal</th>\n",
       "      <th id=\"T_affcd_level0_col1\" class=\"col_heading level0 col1\" >omzet</th>\n",
       "      <th id=\"T_affcd_level0_col2\" class=\"col_heading level0 col2\" >operasional</th>\n",
       "    </tr>\n",
       "  </thead>\n",
       "  <tbody>\n",
       "    <tr>\n",
       "      <th id=\"T_affcd_level0_row0\" class=\"row_heading level0 row0\" >0</th>\n",
       "      <td id=\"T_affcd_row0_col0\" class=\"data row0 col0\" >01/01/00</td>\n",
       "      <td id=\"T_affcd_row0_col1\" class=\"data row0 col1\" >Rp 500,000.00</td>\n",
       "      <td id=\"T_affcd_row0_col2\" class=\"data row0 col2\" >Rp 100,000.00</td>\n",
       "    </tr>\n",
       "    <tr>\n",
       "      <th id=\"T_affcd_level0_row1\" class=\"row_heading level0 row1\" >1</th>\n",
       "      <td id=\"T_affcd_row1_col0\" class=\"data row1 col0\" >02/01/00</td>\n",
       "      <td id=\"T_affcd_row1_col1\" class=\"data row1 col1\" >Rp 700,000.00</td>\n",
       "      <td id=\"T_affcd_row1_col2\" class=\"data row1 col2\" >Rp 50,000.00</td>\n",
       "    </tr>\n",
       "    <tr>\n",
       "      <th id=\"T_affcd_level0_row2\" class=\"row_heading level0 row2\" >2</th>\n",
       "      <td id=\"T_affcd_row2_col0\" class=\"data row2 col0\" >03/01/00</td>\n",
       "      <td id=\"T_affcd_row2_col1\" class=\"data row2 col1\" >Rp 1,000,000.00</td>\n",
       "      <td id=\"T_affcd_row2_col2\" class=\"data row2 col2\" >Rp 10,000.00</td>\n",
       "    </tr>\n",
       "    <tr>\n",
       "      <th id=\"T_affcd_level0_row3\" class=\"row_heading level0 row3\" >3</th>\n",
       "      <td id=\"T_affcd_row3_col0\" class=\"data row3 col0\" >04/01/00</td>\n",
       "      <td id=\"T_affcd_row3_col1\" class=\"data row3 col1\" >Rp 500,000.00</td>\n",
       "      <td id=\"T_affcd_row3_col2\" class=\"data row3 col2\" >Rp 120,000.00</td>\n",
       "    </tr>\n",
       "    <tr>\n",
       "      <th id=\"T_affcd_level0_row4\" class=\"row_heading level0 row4\" >4</th>\n",
       "      <td id=\"T_affcd_row4_col0\" class=\"data row4 col0\" >05/01/00</td>\n",
       "      <td id=\"T_affcd_row4_col1\" class=\"data row4 col1\" >Rp 100,000.00</td>\n",
       "      <td id=\"T_affcd_row4_col2\" class=\"data row4 col2\" >Rp 150,000.00</td>\n",
       "    </tr>\n",
       "  </tbody>\n",
       "</table>\n"
      ],
      "text/plain": [
       "<pandas.io.formats.style.Styler at 0x221ae069700>"
      ]
     },
     "execution_count": 23,
     "metadata": {},
     "output_type": "execute_result"
    }
   ],
   "source": [
    "formatku = {'tanggal': '{:%d/%m/%y}',\n",
    "            'omzet': 'Rp {:,.2f}',\n",
    "            'operasional': 'Rp {:,.2f}'}\n",
    "\n",
    "laporan = df.style.format(formatku)\n",
    "laporan"
   ]
  },
  {
   "cell_type": "code",
   "execution_count": 24,
   "id": "efd85972",
   "metadata": {},
   "outputs": [
    {
     "data": {
      "text/plain": [
       "pandas.io.formats.style.Styler"
      ]
     },
     "execution_count": 24,
     "metadata": {},
     "output_type": "execute_result"
    }
   ],
   "source": [
    "type(laporan)"
   ]
  },
  {
   "cell_type": "code",
   "execution_count": 30,
   "id": "2f3f1ff2",
   "metadata": {},
   "outputs": [
    {
     "data": {
      "text/html": [
       "<style type=\"text/css\">\n",
       "</style>\n",
       "<table id=\"T_affcd\">\n",
       "  <thead>\n",
       "    <tr>\n",
       "      <th id=\"T_affcd_level0_col0\" class=\"col_heading level0 col0\" >tanggal</th>\n",
       "      <th id=\"T_affcd_level0_col1\" class=\"col_heading level0 col1\" >omzet</th>\n",
       "      <th id=\"T_affcd_level0_col2\" class=\"col_heading level0 col2\" >operasional</th>\n",
       "    </tr>\n",
       "  </thead>\n",
       "  <tbody>\n",
       "    <tr>\n",
       "      <td id=\"T_affcd_row0_col0\" class=\"data row0 col0\" >01/01/00</td>\n",
       "      <td id=\"T_affcd_row0_col1\" class=\"data row0 col1\" >Rp 500,000.00</td>\n",
       "      <td id=\"T_affcd_row0_col2\" class=\"data row0 col2\" >Rp 100,000.00</td>\n",
       "    </tr>\n",
       "    <tr>\n",
       "      <td id=\"T_affcd_row1_col0\" class=\"data row1 col0\" >02/01/00</td>\n",
       "      <td id=\"T_affcd_row1_col1\" class=\"data row1 col1\" >Rp 700,000.00</td>\n",
       "      <td id=\"T_affcd_row1_col2\" class=\"data row1 col2\" >Rp 50,000.00</td>\n",
       "    </tr>\n",
       "    <tr>\n",
       "      <td id=\"T_affcd_row2_col0\" class=\"data row2 col0\" >03/01/00</td>\n",
       "      <td id=\"T_affcd_row2_col1\" class=\"data row2 col1\" >Rp 1,000,000.00</td>\n",
       "      <td id=\"T_affcd_row2_col2\" class=\"data row2 col2\" >Rp 10,000.00</td>\n",
       "    </tr>\n",
       "    <tr>\n",
       "      <td id=\"T_affcd_row3_col0\" class=\"data row3 col0\" >04/01/00</td>\n",
       "      <td id=\"T_affcd_row3_col1\" class=\"data row3 col1\" >Rp 500,000.00</td>\n",
       "      <td id=\"T_affcd_row3_col2\" class=\"data row3 col2\" >Rp 120,000.00</td>\n",
       "    </tr>\n",
       "    <tr>\n",
       "      <td id=\"T_affcd_row4_col0\" class=\"data row4 col0\" >05/01/00</td>\n",
       "      <td id=\"T_affcd_row4_col1\" class=\"data row4 col1\" >Rp 100,000.00</td>\n",
       "      <td id=\"T_affcd_row4_col2\" class=\"data row4 col2\" >Rp 150,000.00</td>\n",
       "    </tr>\n",
       "  </tbody>\n",
       "</table>\n"
      ],
      "text/plain": [
       "<pandas.io.formats.style.Styler at 0x221ae069700>"
      ]
     },
     "execution_count": 30,
     "metadata": {},
     "output_type": "execute_result"
    }
   ],
   "source": [
    "laporan.hide()"
   ]
  },
  {
   "cell_type": "code",
   "execution_count": 33,
   "id": "29229b2e",
   "metadata": {},
   "outputs": [
    {
     "data": {
      "text/html": [
       "<style type=\"text/css\">\n",
       "</style>\n",
       "<table id=\"T_affcd\">\n",
       "  <caption>Data Omzet dan Operasional Harian</caption>\n",
       "  <thead>\n",
       "    <tr>\n",
       "      <th id=\"T_affcd_level0_col0\" class=\"col_heading level0 col0\" >tanggal</th>\n",
       "      <th id=\"T_affcd_level0_col1\" class=\"col_heading level0 col1\" >omzet</th>\n",
       "      <th id=\"T_affcd_level0_col2\" class=\"col_heading level0 col2\" >operasional</th>\n",
       "    </tr>\n",
       "  </thead>\n",
       "  <tbody>\n",
       "    <tr>\n",
       "      <td id=\"T_affcd_row0_col0\" class=\"data row0 col0\" >01/01/00</td>\n",
       "      <td id=\"T_affcd_row0_col1\" class=\"data row0 col1\" >Rp 500,000.00</td>\n",
       "      <td id=\"T_affcd_row0_col2\" class=\"data row0 col2\" >Rp 100,000.00</td>\n",
       "    </tr>\n",
       "    <tr>\n",
       "      <td id=\"T_affcd_row1_col0\" class=\"data row1 col0\" >02/01/00</td>\n",
       "      <td id=\"T_affcd_row1_col1\" class=\"data row1 col1\" >Rp 700,000.00</td>\n",
       "      <td id=\"T_affcd_row1_col2\" class=\"data row1 col2\" >Rp 50,000.00</td>\n",
       "    </tr>\n",
       "    <tr>\n",
       "      <td id=\"T_affcd_row2_col0\" class=\"data row2 col0\" >03/01/00</td>\n",
       "      <td id=\"T_affcd_row2_col1\" class=\"data row2 col1\" >Rp 1,000,000.00</td>\n",
       "      <td id=\"T_affcd_row2_col2\" class=\"data row2 col2\" >Rp 10,000.00</td>\n",
       "    </tr>\n",
       "    <tr>\n",
       "      <td id=\"T_affcd_row3_col0\" class=\"data row3 col0\" >04/01/00</td>\n",
       "      <td id=\"T_affcd_row3_col1\" class=\"data row3 col1\" >Rp 500,000.00</td>\n",
       "      <td id=\"T_affcd_row3_col2\" class=\"data row3 col2\" >Rp 120,000.00</td>\n",
       "    </tr>\n",
       "    <tr>\n",
       "      <td id=\"T_affcd_row4_col0\" class=\"data row4 col0\" >05/01/00</td>\n",
       "      <td id=\"T_affcd_row4_col1\" class=\"data row4 col1\" >Rp 100,000.00</td>\n",
       "      <td id=\"T_affcd_row4_col2\" class=\"data row4 col2\" >Rp 150,000.00</td>\n",
       "    </tr>\n",
       "  </tbody>\n",
       "</table>\n"
      ],
      "text/plain": [
       "<pandas.io.formats.style.Styler at 0x221ae069700>"
      ]
     },
     "execution_count": 33,
     "metadata": {},
     "output_type": "execute_result"
    }
   ],
   "source": [
    "laporan.set_caption('Data Omzet dan Operasional Harian')"
   ]
  },
  {
   "cell_type": "code",
   "execution_count": 41,
   "id": "11e6fbcd",
   "metadata": {},
   "outputs": [
    {
     "data": {
      "text/html": [
       "<style type=\"text/css\">\n",
       "#T_affcd_row2_col2 {\n",
       "  background-color: lightblue;\n",
       "  background-color: lightblue;\n",
       "  background-color: lightblue;\n",
       "  background-color: lightblue;\n",
       "  background-color: lightblue;\n",
       "}\n",
       "#T_affcd_row4_col1 {\n",
       "  background-color: pink;\n",
       "  background-color: pink;\n",
       "  background-color: pink;\n",
       "  background-color: pink;\n",
       "  background-color: pink;\n",
       "}\n",
       "#T_affcd_row4_col2 {\n",
       "  background-color: lightgreen;\n",
       "  background-color: lightgreen;\n",
       "  background-color: grey;\n",
       "  background-color: lightgreen;\n",
       "  background-color: grey;\n",
       "  background-color: lightgreen;\n",
       "  background-color: grey;\n",
       "  background-color: lightgreen;\n",
       "  background-color: grey;\n",
       "}\n",
       "</style>\n",
       "<table id=\"T_affcd\">\n",
       "  <caption>Data Omzet dan Operasional Harian</caption>\n",
       "  <thead>\n",
       "    <tr>\n",
       "      <th id=\"T_affcd_level0_col0\" class=\"col_heading level0 col0\" >tanggal</th>\n",
       "      <th id=\"T_affcd_level0_col1\" class=\"col_heading level0 col1\" >omzet</th>\n",
       "      <th id=\"T_affcd_level0_col2\" class=\"col_heading level0 col2\" >operasional</th>\n",
       "    </tr>\n",
       "  </thead>\n",
       "  <tbody>\n",
       "    <tr>\n",
       "      <td id=\"T_affcd_row0_col0\" class=\"data row0 col0\" >01/01/00</td>\n",
       "      <td id=\"T_affcd_row0_col1\" class=\"data row0 col1\" >Rp 500,000.00</td>\n",
       "      <td id=\"T_affcd_row0_col2\" class=\"data row0 col2\" >Rp 100,000.00</td>\n",
       "    </tr>\n",
       "    <tr>\n",
       "      <td id=\"T_affcd_row1_col0\" class=\"data row1 col0\" >02/01/00</td>\n",
       "      <td id=\"T_affcd_row1_col1\" class=\"data row1 col1\" >Rp 700,000.00</td>\n",
       "      <td id=\"T_affcd_row1_col2\" class=\"data row1 col2\" >Rp 50,000.00</td>\n",
       "    </tr>\n",
       "    <tr>\n",
       "      <td id=\"T_affcd_row2_col0\" class=\"data row2 col0\" >03/01/00</td>\n",
       "      <td id=\"T_affcd_row2_col1\" class=\"data row2 col1\" >Rp 1,000,000.00</td>\n",
       "      <td id=\"T_affcd_row2_col2\" class=\"data row2 col2\" >Rp 10,000.00</td>\n",
       "    </tr>\n",
       "    <tr>\n",
       "      <td id=\"T_affcd_row3_col0\" class=\"data row3 col0\" >04/01/00</td>\n",
       "      <td id=\"T_affcd_row3_col1\" class=\"data row3 col1\" >Rp 500,000.00</td>\n",
       "      <td id=\"T_affcd_row3_col2\" class=\"data row3 col2\" >Rp 120,000.00</td>\n",
       "    </tr>\n",
       "    <tr>\n",
       "      <td id=\"T_affcd_row4_col0\" class=\"data row4 col0\" >05/01/00</td>\n",
       "      <td id=\"T_affcd_row4_col1\" class=\"data row4 col1\" >Rp 100,000.00</td>\n",
       "      <td id=\"T_affcd_row4_col2\" class=\"data row4 col2\" >Rp 150,000.00</td>\n",
       "    </tr>\n",
       "  </tbody>\n",
       "</table>\n"
      ],
      "text/plain": [
       "<pandas.io.formats.style.Styler at 0x221ae069700>"
      ]
     },
     "execution_count": 41,
     "metadata": {},
     "output_type": "execute_result"
    }
   ],
   "source": [
    "laporan.highlight_min('omzet', color='pink')\n",
    "laporan.highlight_max('operasional', color='lightgreen')\n",
    "\n",
    "laporan.highlight_min('operasional', color='lightblue')\n",
    "laporan.highlight_max('operasional', color='grey')"
   ]
  }
 ],
 "metadata": {
  "kernelspec": {
   "display_name": "Python 3",
   "language": "python",
   "name": "python3"
  },
  "language_info": {
   "codemirror_mode": {
    "name": "ipython",
    "version": 3
   },
   "file_extension": ".py",
   "mimetype": "text/x-python",
   "name": "python",
   "nbconvert_exporter": "python",
   "pygments_lexer": "ipython3",
   "version": "3.12.4"
  }
 },
 "nbformat": 4,
 "nbformat_minor": 5
}
